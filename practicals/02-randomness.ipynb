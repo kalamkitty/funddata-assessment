{
 "cells": [
  {
   "cell_type": "markdown",
   "id": "ae27cbc2",
   "metadata": {},
   "source": [
    "# Exercise 1:\n",
    "\n",
    "It is somewhat interesting that (5 * 4 * 3 * 2 * 1) perfectly divides (10 * 9 * 8 * 7 * 6) - there's no remainder.\n",
    "\n",
    "If we only wanted exactly four heads as opposed to five, the equivalent calculation would be (10 * 9 * 8 * 7) / (4 * 3 * 2 * 1).\n",
    "\n",
    "Does that evenly divide too? What is the formula in general?\n",
    "\n",
    "Does it always come out as a positive whole number?"
   ]
  },
  {
   "cell_type": "code",
   "execution_count": 2,
   "id": "dfd9f243",
   "metadata": {},
   "outputs": [
    {
     "data": {
      "text/plain": [
       "252.0"
      ]
     },
     "execution_count": 2,
     "metadata": {},
     "output_type": "execute_result"
    }
   ],
   "source": [
    "(10 * 9 * 8 * 7 * 6) / (5 * 4 * 3 * 2 * 1)"
   ]
  },
  {
   "cell_type": "code",
   "execution_count": 3,
   "id": "ac20c67b",
   "metadata": {},
   "outputs": [
    {
     "data": {
      "text/plain": [
       "210.0"
      ]
     },
     "execution_count": 3,
     "metadata": {},
     "output_type": "execute_result"
    }
   ],
   "source": [
    "(10 * 9 * 8 * 7) / (4 * 3 * 2 * 1) "
   ]
  },
  {
   "cell_type": "code",
   "execution_count": 3,
   "id": "94ac7176",
   "metadata": {},
   "outputs": [
    {
     "data": {
      "text/plain": [
       "210"
      ]
     },
     "execution_count": 3,
     "metadata": {},
     "output_type": "execute_result"
    }
   ],
   "source": [
    "import math\n",
    "math.comb(10,4)"
   ]
  },
  {
   "attachments": {},
   "cell_type": "markdown",
   "id": "7f967a03",
   "metadata": {},
   "source": [
    "The calc in the question evenly divides with no remainder.\n",
    "\n",
    "I researched mathematical formulas online and found one closest to the one given above called \"Combinations and permutations\". The combination formula used factorials to find the number of ways (combinations) of r things can be selected out of a sample of n.\n",
    "\n",
    "If the order of the set is important, we would use the permutation formula, but in this case, it does not matter the order of heads selected out of 10 coin tosses, it is only important that we select exactly 4 heads thus the combination formula is used. The combinations formula is also called Binomial Coefficient (Pierce, 2021).\n",
    "\n",
    "The formula is as follows;\n",
    " \n",
    "n!/r!(n-r)!\n",
    "\n",
    "For n ≥ r ≥ 0\n",
    "\n",
    "where\n",
    "n = total number of choices/coin tosses\n",
    "r = number of choices we want/ number of heads or tails wanted\n",
    "\n",
    "Given that;\n",
    "- The trials are independent.\n",
    "- There are only two possible outcomes per trial.\n",
    "\n",
    "10!/4!(10-4)!\n",
    "= (10x9x8x7x6x5x4x3x2x1)/(4x3x2x1)(6x5x4x3x2x1)\n",
    "= 210\n",
    "There are 210 ways to flip 10 coins to get exactly 4 heads.\n",
    "\n",
    "\n",
    "It will always come out as a positive whole number as we are finding the number of ways of picking r out of n possibilities. n must be divisable by r, r is a subset of n, by definition the result cannot be negative and cannot be a fraction thus must be a whole number. I cannot get a negative/decimial result in getting 4 heads whilst flipping 10 coins."
   ]
  },
  {
   "cell_type": "markdown",
   "id": "fc72d1a0",
   "metadata": {},
   "source": [
    "# Exercise 2:\n",
    "\n",
    "Note that there are the same number of ways to get 4 tails as there to get 4 heads. Explain why this is.\n"
   ]
  },
  {
   "cell_type": "markdown",
   "id": "6916691d",
   "metadata": {},
   "source": [
    "There are the same number of ways to select 4 tails out of 10 tosses as there are 4 heads as there are only two outcomes per trial.\n",
    "If we use the above formula to find the number of ways 4 tails will be selected out of 10 tosses, r = 4 and n = 10, the answer will be 210, or using python math.comb method found on w3 schools as illustrated below."
   ]
  },
  {
   "cell_type": "code",
   "execution_count": 4,
   "id": "971c86d3",
   "metadata": {},
   "outputs": [
    {
     "name": "stdout",
     "output_type": "stream",
     "text": [
      "210\n"
     ]
    }
   ],
   "source": [
    "# Import math Library\n",
    "import math\n",
    "\n",
    "# Initialize the number of items (coin toss trials) to choose from\n",
    "n = 10\n",
    "\n",
    "# Initialize the number of possibilities (exactly 4 tails) to choose\n",
    "k = 4\n",
    "\n",
    "# Print total number of possible combinations\n",
    "print (math.comb(n, k))"
   ]
  },
  {
   "cell_type": "markdown",
   "id": "9ca6e22b",
   "metadata": {},
   "source": [
    "# References\n",
    "\n",
    "Pierce, Rod,  2021, 'Combinations and Permutations', Math Is Fun, Available at: <http://www.mathsisfun.com/combinatorics/combinations-permutations.html>. [Accessed 20 Oct 2022]\n",
    "\n",
    "Pierce, Rod,  2022, 'The Binomial Distribution', Math Is Fun, Available at: <http://www.mathsisfun.com/data/binomial-distribution.html>. [Accessed 22 Oct 2022]\n",
    "\n",
    "w3schools.com (no date) Python math.comb() Method, Python math.comb() method. Available at: https://www.w3schools.com/python/ref_math_comb.asp (Accessed: November 22, 2022). "
   ]
  }
 ],
 "metadata": {
  "kernelspec": {
   "display_name": "Python 3 (ipykernel)",
   "language": "python",
   "name": "python3"
  },
  "language_info": {
   "codemirror_mode": {
    "name": "ipython",
    "version": 3
   },
   "file_extension": ".py",
   "mimetype": "text/x-python",
   "name": "python",
   "nbconvert_exporter": "python",
   "pygments_lexer": "ipython3",
   "version": "3.9.7"
  },
  "vscode": {
   "interpreter": {
    "hash": "b1b0894a710e83edfc954b125895f92d4cffbcf6f2f4c0c1562a32b80b7ce147"
   }
  }
 },
 "nbformat": 4,
 "nbformat_minor": 5
}
