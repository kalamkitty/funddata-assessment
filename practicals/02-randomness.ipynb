{
 "cells": [
  {
   "cell_type": "markdown",
   "id": "ae27cbc2",
   "metadata": {},
   "source": [
    "# Exercise 1:\n",
    "\n",
    "It is somewhat interesting that (5 * 4 * 3 * 2 * 1) perfectly divides (10 * 9 * 8 * 7 * 6) - there's no remainder.\n",
    "\n",
    "If we only wanted exactly four heads as opposed to five, the equivalent calculation would be (10 * 9 * 8 * 7) / (4 * 3 * 2 * 1).\n",
    "\n",
    "Does that evenly divide too? What is the formula in general?\n",
    "\n",
    "Does it always come out as a positive whole number?"
   ]
  },
  {
   "cell_type": "code",
   "execution_count": 2,
   "id": "dfd9f243",
   "metadata": {},
   "outputs": [
    {
     "data": {
      "text/plain": [
       "252.0"
      ]
     },
     "execution_count": 2,
     "metadata": {},
     "output_type": "execute_result"
    }
   ],
   "source": [
    "(10 * 9 * 8 * 7 * 6) / (5 * 4 * 3 * 2 * 1)"
   ]
  },
  {
   "cell_type": "code",
   "execution_count": 3,
   "id": "ac20c67b",
   "metadata": {},
   "outputs": [
    {
     "data": {
      "text/plain": [
       "210.0"
      ]
     },
     "execution_count": 3,
     "metadata": {},
     "output_type": "execute_result"
    }
   ],
   "source": [
    "(10 * 9 * 8 * 7) / (4 * 3 * 2 * 1) "
   ]
  },
  {
   "cell_type": "code",
   "execution_count": 3,
   "id": "94ac7176",
   "metadata": {},
   "outputs": [
    {
     "data": {
      "text/plain": [
       "210"
      ]
     },
     "execution_count": 3,
     "metadata": {},
     "output_type": "execute_result"
    }
   ],
   "source": [
    "import math\n",
    "math.comb(10,4)"
   ]
  },
  {
   "cell_type": "markdown",
   "id": "7f967a03",
   "metadata": {},
   "source": [
    "The calc in the question evenly divides with no remainder.\n",
    "\n",
    "I researched mathematical formulas online and found one closest to the one given above called \"Combinations and permutations\". The combination formula used factorials to find the number of ways (combinations) of r things can be selected out of a sample of n.\n",
    "\n",
    "If the order of the set is important, we would use the permutation formula, but in this case, it does not matter the order of heads selected out of 10 coin tosses, it is only important that we select exactly 4 heads thus the combination formula is used. The combinations formula is also called Binomial Coefficient (Pierce, 2021).\n",
    "\n",
    "The formula is as follows;\n",
    " \n",
    "n!/r!(n-r)!\n",
    "\n",
    "For n ≥ r ≥ 0\n",
    "\n",
    "where\n",
    "n = total number of choices/coin tosses\n",
    "r = number of choices we want/ number of heads or tails wanted\n",
    "\n",
    "Given that;\n",
    "- The trials are independent.\n",
    "- There are only two possible outcomes per trial.\n",
    "\n",
    "10!/4!(10-4)!\n",
    "= (10x9x8x7x6x5x4x3x2x1)/(4x3x2x1)(6x5x4x3x2x1)\n",
    "= 210\n",
    "There are 210 ways to flip 10 coins to get exactly 4 heads.\n",
    "\n",
    "\n",
    "It will always come out as a positive whole number as we are finding the number of ways of picking r out of n possibilities. n must be divisable by r, r is a subset of n, by definition the result cannot be negative and cannot be a fraction thus must be a whole number. I cannot get a negative/decimial result in getting 4 heads whilst flipping 10 coins."
   ]
  },
  {
   "cell_type": "markdown",
   "id": "fc72d1a0",
   "metadata": {},
   "source": [
    "# Exercise 2:\n",
    "\n",
    "Note that there are the same number of ways to get 4 tails as there to get 4 heads. Explain why this is.\n"
   ]
  },
  {
   "cell_type": "markdown",
   "id": "6916691d",
   "metadata": {},
   "source": [
    "There are the same number of ways to select 4 tails out of 10 tosses as there are 4 heads as there are only two outcomes per trial.\n",
    "If we use the above formula to find the number of ways 4 tails will be selected out of 10 tosses, r = 4 and n = 10, the answer will be 210, or using python math.comb method found on w3 schools as illustrated below."
   ]
  },
  {
   "cell_type": "code",
   "execution_count": 4,
   "id": "971c86d3",
   "metadata": {},
   "outputs": [
    {
     "name": "stdout",
     "output_type": "stream",
     "text": [
      "210\n"
     ]
    }
   ],
   "source": [
    "# https://www.w3schools.com/python/ref_math_comb.asp\n",
    "\n",
    "# Import math Library\n",
    "import math\n",
    "\n",
    "# Initialize the number of items (coin toss trials) to choose from\n",
    "n = 10\n",
    "\n",
    "# Initialize the number of possibilities (exactly 4 tails) to choose\n",
    "k = 4\n",
    "\n",
    "# Print total number of possible combinations\n",
    "print (math.comb(n, k))"
   ]
  },
  {
   "cell_type": "markdown",
   "id": "e15e3204",
   "metadata": {},
   "source": [
    "# Exercise 3:\n",
    "\n",
    "Plot bar charts or histograms of any three different distributions listed at the following link:\n",
    "https://numpy.org/doc/stable/reference/random/generator.html#distributions\n"
   ]
  },
  {
   "cell_type": "markdown",
   "id": "48d2a0b0",
   "metadata": {},
   "source": [
    "## Chi-square Distribution\n",
    "\n",
    "++explaination of distribution\n"
   ]
  },
  {
   "cell_type": "code",
   "execution_count": 5,
   "id": "d14d4a0a",
   "metadata": {},
   "outputs": [
    {
     "data": {
      "text/plain": [
       "array([ 4.71411183,  6.50533215,  2.93992484,  9.41740054,  2.57421636,\n",
       "        2.74525919,  0.45997963,  1.60300703,  2.92044373,  5.66161051,\n",
       "        3.96584477,  2.65523045,  7.57436155,  2.49237531,  3.12067429,\n",
       "        1.98886097,  3.88128619,  4.99648946,  2.67944287,  7.07528774,\n",
       "        1.58313348,  9.62575351,  5.15942489, 10.19882346, 12.09541487,\n",
       "        5.47287695,  4.32023394,  1.53946577,  5.72600358,  1.69858967,\n",
       "        3.17130317, 11.73564364,  5.37573263, 10.8663452 ,  6.47808185,\n",
       "        4.48831425,  8.01179929,  2.66302528,  4.47935638,  4.91234896,\n",
       "        3.31414403,  1.55529274,  6.27928632,  2.46983024,  3.54115349,\n",
       "        3.18003602,  5.11106099,  4.82482547,  1.46272195,  5.98804384,\n",
       "        3.86743512,  7.44512187,  2.55484929,  0.51119746,  2.83666418,\n",
       "        4.11427272,  6.71500335, 10.00710735,  7.32203119,  7.09004528,\n",
       "        4.55970623,  3.9478055 ,  1.34943103,  2.86581947,  1.93095699,\n",
       "        5.47732067,  4.2924986 ,  9.9111457 ,  5.41201335,  5.52064494,\n",
       "        5.34332026,  0.79982143,  2.37173957,  3.53760674,  2.2825194 ,\n",
       "        4.29946952,  5.28016876,  1.69606518,  6.0259956 ,  2.95281107,\n",
       "       12.18223624,  4.59336818, 11.21708608,  8.29432462,  7.63082298,\n",
       "        6.40078288,  1.28142991,  0.76843808,  3.75869121,  6.4005311 ,\n",
       "        3.17026789,  3.07629379,  5.45252082,  8.38494746,  3.55213347,\n",
       "        1.54791641,  3.08565412,  2.65875639,  7.16614714, 18.874724  ,\n",
       "        4.83219904,  3.08747269,  4.74532152,  2.40446774,  3.78288539,\n",
       "        4.31213832,  2.24811143,  4.10960053,  2.69062901,  3.0217299 ,\n",
       "        8.00486851,  3.08652686,  2.58206461,  8.93394509,  1.58754191,\n",
       "        0.93371301,  9.38245068,  7.36744495, 11.85789461,  3.30322764,\n",
       "        3.44658294,  4.95533295,  8.29155511,  7.16029277,  2.64994015,\n",
       "        2.31891245,  2.5733753 ,  1.89199984,  4.31605779,  2.77312212,\n",
       "        1.35790523, 18.56240918,  2.41595348,  2.04907672,  4.43637529,\n",
       "        1.54210614,  5.8037099 ,  3.71564455,  0.16308351,  1.88403698,\n",
       "        2.70853426,  1.72010379,  6.50313013,  2.07897009,  3.53024217,\n",
       "        1.58028456,  8.92852248,  6.19362992,  0.69176295,  5.14678271,\n",
       "        3.914698  ,  4.49837547,  3.60222777,  9.0554158 ,  8.12852257,\n",
       "        2.37060949,  2.15001889,  5.44033786,  1.83102745,  7.80701856,\n",
       "        5.68529362,  4.53531095,  5.25788986,  6.51988599,  5.47710082,\n",
       "        5.34652659,  8.86145693,  1.93742584, 10.22395924,  3.64371627,\n",
       "        3.79426908,  5.5733655 ,  6.43496416, 13.45754137,  2.22567609,\n",
       "        4.18850057,  5.00986041,  7.96477123, 13.28099335,  3.31011396,\n",
       "        2.06083935,  2.69188117,  7.18722582,  3.27244665,  9.73392781,\n",
       "        2.78888109,  6.81312107,  8.73526651,  1.27458214,  4.70419736,\n",
       "        3.05143604,  2.75144253,  5.50764252,  3.06724342,  2.83801442,\n",
       "        4.60083007,  1.84223357,  5.776232  ,  6.28821863,  7.64436448,\n",
       "        8.68117448,  4.81664971,  8.44866513,  4.89697994,  7.01766559,\n",
       "        3.91270019,  9.81893515,  3.5108676 ,  3.38527763,  3.89046147,\n",
       "        2.11796538,  2.1936085 ,  6.14193555,  8.35619089,  9.68449343,\n",
       "        2.92457271,  8.26243436, 13.28734472,  9.31653968,  4.65455655,\n",
       "        4.28131118,  5.71268863,  4.04103498,  2.32364317,  8.7824705 ,\n",
       "        7.08741379,  0.76546057,  8.66127815,  5.38617048,  3.95955438,\n",
       "        3.39503106,  2.26658069, 10.5060945 ,  9.9041126 ,  3.63119403,\n",
       "        1.85276993,  5.84546303, 11.87571052,  4.61646767,  1.71101473,\n",
       "        3.39496806,  4.33984738,  4.76457361,  2.63185821,  0.81256841,\n",
       "        6.60091357,  5.48621093,  5.81081599,  2.5236654 ,  5.2722807 ,\n",
       "        5.76628663,  2.56438872,  4.76782282,  3.95221586,  2.06297915,\n",
       "        5.65129032,  3.93129097,  2.45717255,  3.67130448,  2.9955875 ,\n",
       "        5.2442773 , 10.15325646,  5.51393363, 12.16763873,  3.76166715,\n",
       "        5.52661203,  0.99044384,  5.21590135,  5.21916899,  1.63358336,\n",
       "        4.70938363,  4.68406543,  3.01203861,  5.67300302,  4.8709198 ,\n",
       "        1.19472607,  0.79748303,  3.35296025,  3.3147516 , 10.4609018 ,\n",
       "        5.87814801,  6.10149126,  3.07645587,  4.16488762,  1.99949243,\n",
       "        9.24427091,  3.36015602,  2.60395001,  1.59807907,  5.43708725,\n",
       "        2.3745857 ,  5.71017477,  6.5278219 ,  2.89624263,  1.59355771,\n",
       "        4.27898535,  1.22352306,  4.4853162 ,  1.42921366, 15.09061058,\n",
       "        6.98968194,  7.07123384,  3.22131236,  3.18548541,  4.28080137,\n",
       "        2.65378354,  2.43039273,  1.68225883, 10.72355166,  4.62444893,\n",
       "        7.59363389,  1.01039239,  0.94040636,  6.38143617,  4.42910539,\n",
       "        5.48710236,  7.58833984,  4.7945715 ,  4.1471561 ,  5.32778622,\n",
       "        2.85559746,  0.47979766,  1.57596816, 10.15693949,  2.92553795,\n",
       "        6.1487856 ,  3.36928188,  2.61093476,  6.3363008 ,  7.00670043,\n",
       "        1.02359523,  8.53816786,  8.72901363,  5.38380749,  4.7598487 ,\n",
       "        1.64262775,  9.89571591,  4.65400868,  5.46999529,  2.00747019,\n",
       "        4.79410587,  2.78367876,  5.43135502,  6.15779935,  0.83458822,\n",
       "       11.12401366,  3.39015959,  8.15744083,  1.52342815,  5.89537643,\n",
       "        3.47517271,  5.91009349,  2.71827483,  5.26042942,  3.3281055 ,\n",
       "        2.10128768,  0.68237489,  7.25762005,  7.63519277,  5.42190467,\n",
       "        3.59307329,  3.3860353 ,  7.34733129,  2.07677445,  2.61246095,\n",
       "        4.47044867,  3.56626027,  2.86653868,  1.90350595,  9.00546786,\n",
       "        2.64410898,  1.31704139,  3.26929218,  6.07639667,  0.88551378,\n",
       "        9.24467926, 15.81961379,  7.22948398,  8.60409036,  3.13613461,\n",
       "        3.49653764,  3.77811673,  6.09306993,  5.46253723,  8.02970855,\n",
       "        1.64831323,  2.42299758,  1.65868496,  1.74624759,  3.83596853,\n",
       "        4.15290959,  2.60234461,  6.76948814,  1.91026441,  7.09257594,\n",
       "        3.01581167,  1.53553066,  2.5074047 ,  4.24729336,  3.52857205,\n",
       "        4.07184241,  2.56980794,  6.923794  , 11.58825322,  6.05370836,\n",
       "        5.06141457,  8.51494905,  8.87612113,  3.03678657,  2.94840566,\n",
       "        3.98806904,  4.21379353,  4.90884824,  2.18287537,  4.11891175,\n",
       "        4.14804426,  2.0214825 ,  2.14653201,  4.03651244,  2.20360112,\n",
       "        6.70768123, 14.75418443,  8.92920836,  5.60011143,  5.15987511,\n",
       "        3.49874082,  6.10799931,  2.29646697,  3.05874139,  4.86913287,\n",
       "        8.83130572,  4.18990475,  3.39244089,  3.70253874,  3.11284024,\n",
       "        3.8007293 ,  6.62800305,  3.16618383,  3.67684485,  6.61756824,\n",
       "        5.11230031,  6.66671748,  3.01052924,  1.64552367,  0.8178272 ,\n",
       "        9.57407349,  7.08985151,  2.58085098,  6.28320787,  8.17898703,\n",
       "        3.8303877 ,  3.50917407,  6.98298266,  3.08601453,  2.85143182,\n",
       "        7.14001845,  2.14886515,  2.76922597,  1.78526752,  1.64856962,\n",
       "        4.34934382,  3.81409966,  2.13823181,  1.40335745, 16.55156721,\n",
       "        1.93112521,  1.17779537,  6.00497394,  1.95035762,  8.70704825,\n",
       "        2.58033824,  4.49551148,  2.9504737 ,  3.11685322,  3.64990228,\n",
       "        6.96769549,  3.55414494,  6.2281775 ,  3.40592207,  3.35338317,\n",
       "        5.36767635,  3.58481455,  2.49812973,  2.23309853,  2.44023858,\n",
       "        3.00543485,  4.58431099, 14.59775268,  1.37448888,  4.06115056,\n",
       "        1.73390652,  2.44495376,  3.44393938,  0.96075715,  3.91043393,\n",
       "       12.57255053,  9.84845488,  3.69096235,  5.29072724,  5.1643468 ,\n",
       "        3.284712  ,  4.94087199,  4.20491663,  4.22714127,  2.68254334,\n",
       "        2.65701136,  5.53080326,  9.7976342 ,  6.01463385,  3.42172303,\n",
       "       11.03496303,  4.06020874,  1.26073946,  3.48766963,  4.77949517,\n",
       "        2.16461627,  4.8640211 , 10.70382341,  2.26275987,  7.02156123,\n",
       "        0.86037861,  4.35923659,  5.47317523, 19.49938174,  2.09183851,\n",
       "        8.61059127,  2.17173113,  7.12237007,  1.09219783,  1.36600819,\n",
       "        3.32605479,  3.33402338,  4.50480611,  4.61376493,  5.76580264,\n",
       "        0.57263071,  1.54367255,  2.43367038,  5.91881584,  5.52565214,\n",
       "        8.74479114,  8.20229964, 10.88379364,  5.79470283, 14.7861213 ,\n",
       "        7.66071637,  4.5495837 ,  5.93379728,  5.00980811,  9.8594947 ,\n",
       "        6.14401637, 11.13914101,  5.54138591,  1.63708726,  1.94098953,\n",
       "        6.54434023,  5.87743375,  8.91873045,  8.85469481,  4.83824524,\n",
       "        4.42675252,  6.72875454,  8.10850973,  7.20377674,  6.49542784,\n",
       "        4.72541392,  3.54582628,  3.89675078,  7.46015564,  3.15617314,\n",
       "        2.69468348,  6.44798418,  7.54792698,  2.76842512,  4.05706064,\n",
       "        0.34721764,  5.35791563,  6.35179249,  5.20712421,  2.49973764,\n",
       "        6.67441032, 11.15402664,  2.88147202,  1.82259566,  2.0689982 ,\n",
       "        8.36388431,  3.41275342,  5.84613543,  2.89930994,  7.78722484,\n",
       "        7.4092168 ,  4.85982865,  3.07921153,  1.36748479,  1.14966882,\n",
       "        6.2857586 ,  5.30064898,  1.71566153,  5.29093966,  3.34731598,\n",
       "        2.9026352 ,  1.20537813, 10.84500964,  1.93965656,  3.06000305,\n",
       "        2.66624312,  3.80305877,  6.80557358,  3.12121571,  2.38202833,\n",
       "        1.4735732 ,  2.8182048 ,  8.53521082,  9.74846482,  8.58728353,\n",
       "        0.14435779, 10.64374849,  3.15963645,  1.51787875,  0.90786271,\n",
       "        8.5336259 ,  3.34907278, 18.45458176,  2.42750368,  4.07714924,\n",
       "        2.82560426,  7.1487604 ,  2.41616472,  6.14413495,  2.47566349,\n",
       "        1.45689633,  6.60405878,  2.10291658, 10.52124725,  4.51617859,\n",
       "        6.39303801,  3.77040371,  8.64608087,  4.18341606,  0.95588016,\n",
       "        2.59930868,  6.62397165,  6.81336151,  8.74794423,  2.34315502,\n",
       "        2.65920077, 11.59860731,  5.08533149,  2.17157587,  4.31669159,\n",
       "        4.79731473,  5.8490957 ,  4.3387122 ,  9.07077825,  3.97405104,\n",
       "        4.59493057,  7.64737028,  6.59311499, 10.89370205,  5.52798082,\n",
       "        5.34612704,  1.02096212,  7.80718577,  9.36293217,  3.69515158,\n",
       "        7.26452527, 13.54535452,  2.44828474,  7.10012257,  8.19959179,\n",
       "        1.55722046,  4.94416836,  0.66407199, 11.68865856,  1.97445974,\n",
       "        0.76387792,  8.73601114,  5.42688027,  4.0422521 ,  5.51072759,\n",
       "        6.58913008,  6.58527685, 11.12101525,  5.21720864,  0.48128772,\n",
       "        5.24249205,  3.93056182,  4.58066043,  3.83213519,  2.7791555 ,\n",
       "        1.44279832,  4.66966546,  9.45333201,  1.19513548, 10.19894318,\n",
       "        6.91831798,  2.42640567,  7.7007986 ,  5.95820622,  6.61479264,\n",
       "        6.93457873,  4.23266056,  2.18728146,  8.27143948,  1.8593954 ,\n",
       "        4.12791291,  6.28397739,  2.06413407,  7.52685878, 13.15519586,\n",
       "        2.72233599,  3.61838521,  4.25678506, 13.30617119,  7.58207225,\n",
       "        5.22395203,  7.35691263,  2.1339139 ,  4.14758813,  5.98983015,\n",
       "        7.90418243,  7.57423404,  8.51007839,  6.46733843,  5.21983385,\n",
       "        8.42347807, 11.3812447 ,  8.97364942,  0.49968642,  5.36610874,\n",
       "        4.64552842,  5.00263125,  2.79307577,  3.3782977 ,  1.82980909,\n",
       "        4.57993609,  4.14755714,  6.1048179 ,  6.65960225,  3.12616662,\n",
       "        6.03460121,  5.32620024,  9.02086572,  7.93134173,  1.28304269,\n",
       "        8.93087175,  1.65717092,  2.34359852,  5.75325098,  2.90356651,\n",
       "        3.29089921,  4.70686687,  6.00587023,  6.036187  ,  3.10029586,\n",
       "        4.25648404,  3.25390058,  1.00013084,  4.87941   ,  3.82835699,\n",
       "        8.89017945,  4.56338442, 11.94155644,  4.21766297,  4.02399898,\n",
       "        5.05571306,  6.22769629,  6.93787086,  1.82330577,  7.43098014,\n",
       "        5.06131859,  7.78423601,  1.63195282, 12.43136681,  3.6787653 ,\n",
       "        8.13257539,  4.2187558 ,  8.51391633,  3.60964816,  1.03965874,\n",
       "        6.00813587,  5.16390133,  7.6916575 ,  1.60203479,  4.48868138,\n",
       "       10.90420862,  6.94281818, 15.70104675,  2.91648955,  9.49964526,\n",
       "       11.27604158,  7.4137908 ,  1.17688121,  1.33873405,  4.95916725,\n",
       "        7.77837275,  1.18628427,  1.56090736,  9.14148835,  5.41163597,\n",
       "       15.7191204 , 16.05332477,  2.86739066,  1.8765292 ,  3.41199241,\n",
       "       14.3167944 ,  7.54860984,  1.98503909,  0.92093922,  5.02244896,\n",
       "        3.80028103,  7.87986944,  5.54672637,  7.04918406,  2.48355766,\n",
       "        9.05009462,  2.95345325,  6.30305809,  6.86723024, 14.76893004,\n",
       "        7.57171557,  0.20480925,  5.15118623,  2.89888014,  1.1230099 ,\n",
       "        6.77874879,  2.95731291,  0.8059715 ,  7.33157188,  1.34979552,\n",
       "        9.71900984,  5.17478999,  0.72235803,  4.07688746,  5.13362082,\n",
       "        1.19294962,  4.78167508,  9.42152791, 11.43920044,  5.02415233,\n",
       "        3.39744798,  3.06268754,  1.55066876,  3.72039662,  1.53285921,\n",
       "        3.06576326,  4.83040707,  5.57565412, 11.40013658,  0.17087638,\n",
       "        1.15190829,  7.02275382,  3.19057813,  1.24276825,  6.1579092 ,\n",
       "        1.73166646,  7.17180035,  5.33749036,  4.74363577,  3.48557105,\n",
       "        5.40452087,  2.48657536,  5.66796145,  8.75680918,  2.4057031 ,\n",
       "        5.03843109,  6.65934976,  4.78850215,  7.23160033,  6.3613588 ,\n",
       "        5.80137627,  4.33223195, 10.77559006,  4.40868377,  2.11444424,\n",
       "       10.73976748, 18.07712502,  7.25406421,  5.58726189,  2.66842117,\n",
       "        2.67518671,  7.88822972,  1.68030952,  2.87557313,  4.73376494,\n",
       "        5.40014141,  3.76755436,  8.09759972,  3.88024878,  1.71149188,\n",
       "        4.18050556, 10.05196902,  9.12980149,  5.09207572, 10.68445136,\n",
       "        2.99031648, 16.57264766,  3.22467721, 11.5710258 ,  0.81682724,\n",
       "        6.40342627,  2.88982625,  5.05918103,  9.03974248,  6.97994563,\n",
       "        1.55454269,  7.21724896,  6.04482919,  2.89844806,  2.02540685,\n",
       "        7.68534938, 12.99991861,  9.7578234 ,  1.39565393,  6.16873681,\n",
       "        6.82277685,  2.81869585,  9.65519963,  6.02179882,  5.2139314 ,\n",
       "        1.59275774,  1.9299425 ,  6.56669295,  2.38692913,  3.88272937,\n",
       "        6.52891917,  5.49333519,  4.9535696 ,  2.53426685,  2.74321927,\n",
       "        0.8597124 ,  0.68777962,  1.86311751,  2.43072139,  3.40742653,\n",
       "        0.76837258,  3.43246766,  2.79488444,  6.54914355,  1.18749626,\n",
       "        7.26875548,  4.29544646,  7.8300678 ,  3.86355005,  2.71438582,\n",
       "        3.88495261,  5.17794058, 13.02180581,  1.38900577,  1.7868502 ,\n",
       "        2.19625882,  0.78173323,  1.06588833,  3.46370469, 10.10386862,\n",
       "        2.87558918,  3.9098548 , 10.58974632, 12.04024604,  4.06371169,\n",
       "        5.19509621,  5.02939768,  1.05031642,  5.36591839,  1.37869671,\n",
       "        5.63694804,  1.51292855,  2.42638131,  8.00350325,  3.83750352,\n",
       "        9.23925602,  2.02867026,  5.4959387 ,  6.6683009 ,  1.74390367,\n",
       "        1.81612111, 10.61480248,  2.67479524,  7.07865791,  5.30137226,\n",
       "        9.1551061 ,  3.46583921,  3.91908542,  4.99064318,  3.38907542,\n",
       "        4.58940838,  6.36794036,  1.87194615,  5.98003188,  2.33841117,\n",
       "        9.66693944,  4.52823371,  6.94005823,  0.6931252 ,  5.51373506,\n",
       "        3.01655628,  1.12323744,  3.983672  ,  4.28901446,  3.19592142])"
      ]
     },
     "execution_count": 5,
     "metadata": {},
     "output_type": "execute_result"
    }
   ],
   "source": [
    "# https://www.geeksforgeeks.org/numpy-random-chisquare-in-python/\n",
    "\n",
    "# Import libraries for random generator and plots.\n",
    "import numpy as np\n",
    "import matplotlib.pyplot as plt\n",
    "\n",
    "# Seeded random generator.\n",
    "rng = np.random.default_rng(0)\n",
    "\n",
    "chi = rng.chisquare(5,1000)\n",
    "\n",
    "chi\n"
   ]
  },
  {
   "cell_type": "code",
   "execution_count": 11,
   "id": "ce63e91d",
   "metadata": {},
   "outputs": [
    {
     "data": {
      "image/png": "[encoded data removed]",
      "text/plain": [
       "<Figure size 432x288 with 1 Axes>"
      ]
     },
     "metadata": {
      "needs_background": "light"
     },
     "output_type": "display_data"
    }
   ],
   "source": [
    "plt.hist(chi,bins=50) \n",
    "plt.title(\"Chi-Square distribution\") \n",
    "plt.show()"
   ]
  },
  {
   "cell_type": "markdown",
   "id": "5e355013",
   "metadata": {},
   "source": [
    "## Poisson Distribution\n",
    "\n",
    "The poisson distribution can be used to find the probability of a countable outcome and explain the number of outcomes within a given time (Turney, 2022).\n",
    "\n",
    "++ info, an e.g."
   ]
  },
  {
   "cell_type": "code",
   "execution_count": 25,
   "id": "c226b3c4",
   "metadata": {},
   "outputs": [
    {
     "data": {
      "text/plain": [
       "array([ 3,  7,  3,  4,  8,  5,  7,  4,  5,  4,  3,  5, 11,  8,  5,  9,  4,\n",
       "        3,  3,  5,  4,  8,  6,  3,  3,  4,  6,  8,  8,  5,  5,  6,  6,  3,\n",
       "        7,  4,  6,  7,  7,  6,  7,  3, 11,  7,  3,  8,  8,  5,  5,  5,  3,\n",
       "        6,  5,  7,  7,  2,  4,  5,  3,  6,  9,  4,  0,  7, 10,  5,  8,  7,\n",
       "        4,  7,  4,  4,  4,  4,  6,  6,  7,  3,  9,  6,  1,  9,  3,  7,  6,\n",
       "        5,  5,  3,  2,  3,  6,  5,  8,  2,  7,  3,  5,  6,  6,  5,  6,  5,\n",
       "        5,  4,  4,  5,  1,  5,  3,  6,  8,  5, 11,  4,  6,  8,  3,  5,  7,\n",
       "        7,  6,  3,  2,  2,  5,  5,  6,  4,  5,  7,  4,  6,  2,  5,  5,  1,\n",
       "        4,  4,  8,  3, 11,  5,  5,  9,  7,  3,  1,  3,  8,  1,  5,  5,  3,\n",
       "        4,  8,  9,  7,  5,  2,  4,  1,  7,  2,  4,  5,  4,  7,  4,  2,  5,\n",
       "        6,  3,  9,  7,  6,  7,  1,  4,  3,  3,  5,  3,  9,  6,  4,  7,  4,\n",
       "        2,  5,  8,  7,  3,  1,  5,  5,  4,  5,  5,  5,  7,  4,  5,  6,  2,\n",
       "        3,  1, 10,  4,  1,  6,  5,  4,  3,  8,  3,  6,  3,  2,  3,  0,  3,\n",
       "        8,  3,  4,  2,  6,  7,  4,  6,  7,  8,  9,  8,  8,  6,  2,  5,  1,\n",
       "        3,  5,  4,  2,  5,  5,  7,  3,  7,  7,  2,  3,  9,  5,  2,  4,  6,\n",
       "        4,  5,  5,  6,  6,  7,  4,  5,  9,  7,  1,  7,  4,  5,  6,  3,  3,\n",
       "        7,  5,  7,  5,  5,  1,  4,  5,  5,  5,  4,  6,  9,  4,  5,  4,  7,\n",
       "        7,  5,  8,  2,  2,  7,  3,  6,  4,  2,  2,  1,  4,  2,  4,  3,  6,\n",
       "        2,  3,  6,  4,  7,  4,  5,  4,  4,  6,  5,  2,  4,  5,  7,  4,  5,\n",
       "        3,  7,  5,  1,  5,  5,  3,  3,  5,  4,  5,  4,  5,  3,  4,  4,  2,\n",
       "        6,  5,  6,  4,  4,  3,  4,  5,  5,  5,  7,  5,  3,  4,  2,  4,  3,\n",
       "        0,  6,  6,  5,  5,  4,  9,  3,  3,  7,  3,  4,  6,  6,  8,  3,  7,\n",
       "        4,  7,  3,  4,  4,  5,  5,  5,  2,  5,  7,  4,  6,  9,  7,  5,  6,\n",
       "        7,  2,  6,  3,  5,  3,  7,  6,  6,  5,  8,  7,  3,  5,  6,  5,  1,\n",
       "        5,  5, 10,  5, 10,  1, 10,  3,  5,  5,  2,  6,  4,  4,  3,  2,  1,\n",
       "        5,  9,  2,  5,  5,  1,  4,  3,  7,  4,  5,  6,  5,  6,  2,  7, 11,\n",
       "        2,  8,  5, 10,  2,  4,  7,  6,  6,  7,  4,  3,  2,  4,  2,  4,  4,\n",
       "        8,  7,  5,  3,  7,  7,  4,  1,  5,  6,  3,  3,  8,  2,  6,  4,  9,\n",
       "        6,  8,  2,  9,  9,  6,  9,  4,  8,  5,  7,  9,  6,  7,  3,  6,  5,\n",
       "        6,  3,  7,  4,  4,  7,  3,  3,  7,  2,  4,  3,  6,  5,  5,  5,  1,\n",
       "        5,  5,  7,  9,  4,  7,  3,  6,  5,  5,  3,  3,  4,  8,  5,  7,  5,\n",
       "        7,  4,  5,  7,  4,  3,  7,  6,  6,  5,  5,  6,  6,  7,  7,  6,  3,\n",
       "        8,  4,  3,  2,  2,  4,  8,  5,  5,  3,  1,  9,  2,  2,  3,  5, 10,\n",
       "        2,  4,  3,  2, 10,  4,  3,  4,  5,  3,  6,  5,  4,  7,  3,  9,  1,\n",
       "        4,  3,  5,  4,  5,  8,  4,  5,  9,  7,  4,  5,  6,  7,  5,  3,  4,\n",
       "        2,  9,  6,  6,  6,  8,  6,  6,  3,  3,  3,  8,  4,  4,  4,  3,  5,\n",
       "        3,  9,  6,  3,  2,  4,  3,  7,  4,  0,  7,  5,  7,  3,  3,  7,  3,\n",
       "        2,  1,  4,  4,  8,  4,  5,  6,  3,  4,  6,  8,  5,  5,  3, 12,  6,\n",
       "        3,  3,  5,  7,  2,  5,  8,  4,  3,  3,  3,  5,  5,  5,  3,  4,  5,\n",
       "       10,  6,  7,  6,  4,  9,  2,  6,  2,  5,  7,  4,  5,  6,  6,  7,  1,\n",
       "        8,  5,  4,  7,  4,  1,  6,  5,  4,  6,  2,  7,  2, 13,  5,  2,  8,\n",
       "        6,  4,  3,  5,  6,  4,  5,  4,  8,  2,  1,  3,  1,  6,  6,  4,  7,\n",
       "        6,  4,  7,  3,  6,  1, 11,  3,  3,  8,  4,  5,  5,  2,  6,  6,  5,\n",
       "        8,  7,  6,  9,  4,  7,  4,  3,  2,  3,  7,  5,  4,  5,  8,  6,  6,\n",
       "        9,  4,  4,  3,  5,  6,  5,  8,  4,  5,  6,  4,  2,  7,  7,  6,  3,\n",
       "       11,  4,  4,  2,  4,  6,  6,  6,  7,  3,  5,  5,  7,  6,  5,  5,  3,\n",
       "        2,  3,  3,  5,  2,  4,  5,  7,  6,  4,  7,  6,  8,  3,  8,  6,  7,\n",
       "        4,  8,  5,  2,  5,  9,  2,  3,  3,  4,  7,  2,  7,  4,  9,  6,  4,\n",
       "        3,  3,  7,  4,  1,  8,  6,  9,  2,  4,  3,  5,  5,  3,  2,  5,  3,\n",
       "        3,  8,  6,  5,  3,  9,  9,  6,  6,  7,  7,  6,  3,  4, 10,  3,  2,\n",
       "       11,  5,  2,  3,  5,  5,  6,  7,  2,  5,  6,  5,  2,  7,  4,  7,  2,\n",
       "        5,  8,  5,  4,  4,  5,  5,  7,  6,  7,  7,  6,  4, 12,  3,  4,  7,\n",
       "        5,  4,  6,  8,  5,  3,  5,  7,  8,  8,  4,  3,  4,  4,  6,  5,  6,\n",
       "        7,  8,  5,  6,  6, 10,  3,  4,  8,  4,  9,  3,  3,  6,  1,  5,  3,\n",
       "        2,  2,  8,  0,  6,  2,  8,  5,  4,  3,  2,  2,  4,  4,  6,  6,  8,\n",
       "        4,  5,  4,  4,  9,  9,  3,  6,  3,  7,  4,  1,  6,  2,  4,  3,  8,\n",
       "        9,  3, 11,  4,  8,  4,  4,  9,  3,  3,  6,  3,  5,  4,  5,  4,  5,\n",
       "        5,  6,  4,  7,  3,  2,  7,  4,  9,  6,  7,  4,  4,  3,  5,  9,  5,\n",
       "        5,  4,  5,  3, 11,  5,  4, 10,  4,  6,  2,  5,  4,  6],\n",
       "      dtype=int64)"
      ]
     },
     "execution_count": 25,
     "metadata": {},
     "output_type": "execute_result"
    }
   ],
   "source": [
    "# https://numpy.org/doc/stable/reference/random/generated/numpy.random.Generator.poisson.html#numpy.random.Generator.poisson\n",
    "\n",
    "rng = np.random.default_rng(0)\n",
    "\n",
    "# 5 is the lambda/ mean number of events at a given time/ mean of the distribution.\n",
    "p = rng.poisson(5,1000)\n",
    "p\n"
   ]
  },
  {
   "cell_type": "code",
   "execution_count": 26,
   "id": "c7fe2ebd",
   "metadata": {},
   "outputs": [
    {
     "data": {
      "text/plain": [
       "(array([ 37.,  79., 147., 361., 135., 115., 101.,  12.,  10.,   3.]),\n",
       " array([ 0. ,  1.3,  2.6,  3.9,  5.2,  6.5,  7.8,  9.1, 10.4, 11.7, 13. ]),\n",
       " <BarContainer object of 10 artists>)"
      ]
     },
     "execution_count": 26,
     "metadata": {},
     "output_type": "execute_result"
    },
    {
     "data": {
      "image/png": "[encoded data removed]",
      "text/plain": [
       "<Figure size 432x288 with 1 Axes>"
      ]
     },
     "metadata": {
      "needs_background": "light"
     },
     "output_type": "display_data"
    }
   ],
   "source": [
    "\n",
    "fig, ax = plt.subplots()\n",
    "ax.hist(p,bins=10)\n"
   ]
  },
  {
   "cell_type": "markdown",
   "id": "d087c2fb",
   "metadata": {},
   "source": [
    "## Triangular Distribution\n",
    "\n",
    "A triangular distribution have a lower limit and upper limit, peaking at mode.\n",
    "+++"
   ]
  },
  {
   "cell_type": "code",
   "execution_count": 41,
   "id": "139943b4",
   "metadata": {},
   "outputs": [
    {
     "data": {
      "text/plain": [
       "array([ 1.54715747, -1.94269094, -5.63940701, ..., -2.97698117,\n",
       "        5.8612533 , -6.2727561 ])"
      ]
     },
     "execution_count": 41,
     "metadata": {},
     "output_type": "execute_result"
    }
   ],
   "source": [
    "# https://numpy.org/doc/stable/reference/random/generated/numpy.random.Generator.triangular.html\n",
    "rng = np.random.default_rng(0)\n",
    "\n",
    "# Lowest possible outcome, mode and highest possible outcome\n",
    "tri = rng.triangular (-8,0,9,10000)\n",
    "tri"
   ]
  },
  {
   "cell_type": "code",
   "execution_count": 45,
   "id": "7344067d",
   "metadata": {},
   "outputs": [
    {
     "data": {
      "text/plain": [
       "(array([ 11.,   4.,  11.,  15.,  20.,  22.,  27.,  43.,  35.,  52.,  37.,\n",
       "         63.,  47.,  61.,  71.,  72.,  69.,  75.,  99., 103.,  87.,  79.,\n",
       "         92., 108., 110., 106., 107., 132., 126., 135., 114., 119., 128.,\n",
       "        163., 141., 141., 154., 151., 170., 163., 178., 167., 179., 197.,\n",
       "        188., 204., 194., 190., 164., 177., 201., 183., 199., 180., 143.,\n",
       "        142., 166., 173., 165., 157., 164., 139., 122., 119., 132., 150.,\n",
       "        111., 125., 124., 137., 124., 100., 113., 109.,  79.,  90.,  77.,\n",
       "         81.,  92.,  72.,  71.,  50.,  61.,  66.,  55.,  47.,  58.,  51.,\n",
       "         40.,  39.,  34.,  30.,  21.,  28.,  22.,  20.,  17.,  10.,   6.,\n",
       "          4.]),\n",
       " array([-7.87880212, -7.71023652, -7.54167092, -7.37310531, -7.20453971,\n",
       "        -7.0359741 , -6.8674085 , -6.69884289, -6.53027729, -6.36171168,\n",
       "        -6.19314608, -6.02458047, -5.85601487, -5.68744927, -5.51888366,\n",
       "        -5.35031806, -5.18175245, -5.01318685, -4.84462124, -4.67605564,\n",
       "        -4.50749003, -4.33892443, -4.17035882, -4.00179322, -3.83322761,\n",
       "        -3.66466201, -3.49609641, -3.3275308 , -3.1589652 , -2.99039959,\n",
       "        -2.82183399, -2.65326838, -2.48470278, -2.31613717, -2.14757157,\n",
       "        -1.97900596, -1.81044036, -1.64187475, -1.47330915, -1.30474355,\n",
       "        -1.13617794, -0.96761234, -0.79904673, -0.63048113, -0.46191552,\n",
       "        -0.29334992, -0.12478431,  0.04378129,  0.2123469 ,  0.3809125 ,\n",
       "         0.54947811,  0.71804371,  0.88660931,  1.05517492,  1.22374052,\n",
       "         1.39230613,  1.56087173,  1.72943734,  1.89800294,  2.06656855,\n",
       "         2.23513415,  2.40369976,  2.57226536,  2.74083097,  2.90939657,\n",
       "         3.07796217,  3.24652778,  3.41509338,  3.58365899,  3.75222459,\n",
       "         3.9207902 ,  4.0893558 ,  4.25792141,  4.42648701,  4.59505262,\n",
       "         4.76361822,  4.93218382,  5.10074943,  5.26931503,  5.43788064,\n",
       "         5.60644624,  5.77501185,  5.94357745,  6.11214306,  6.28070866,\n",
       "         6.44927427,  6.61783987,  6.78640548,  6.95497108,  7.12353668,\n",
       "         7.29210229,  7.46066789,  7.6292335 ,  7.7977991 ,  7.96636471,\n",
       "         8.13493031,  8.30349592,  8.47206152,  8.64062713,  8.80919273,\n",
       "         8.97775834]),\n",
       " <BarContainer object of 100 artists>)"
      ]
     },
     "execution_count": 45,
     "metadata": {},
     "output_type": "execute_result"
    },
    {
     "data": {
      "image/png": "[encoded data removed]",
      "text/plain": [
       "<Figure size 432x288 with 1 Axes>"
      ]
     },
     "metadata": {
      "needs_background": "light"
     },
     "output_type": "display_data"
    }
   ],
   "source": [
    "fig, ax = plt.subplots()\n",
    "ax.hist(tri,bins=100)"
   ]
  },
  {
   "cell_type": "markdown",
   "id": "9ca6e22b",
   "metadata": {},
   "source": [
    "# References\n",
    "\n",
    "Pierce, Rod,  2021, 'Combinations and Permutations', Math Is Fun, Available at: <http://www.mathsisfun.com/combinatorics/combinations-permutations.html>. [Accessed 20 Oct 2022]\n",
    "\n",
    "Pierce, Rod,  2022, 'The Binomial Distribution', Math Is Fun, Available at: <http://www.mathsisfun.com/data/binomial-distribution.html>. [Accessed 22 Oct 2022]\n",
    "\n",
    "w3schools.com (no date) Python math.comb() Method, Python math.comb() method. Available at: https://www.w3schools.com/python/ref_math_comb.asp (Accessed: November 22, 2022). \n",
    "\n",
    "https://www.scribbr.com/statistics/poisson-distribution/"
   ]
  }
 ],
 "metadata": {
  "kernelspec": {
   "display_name": "Python 3 (ipykernel)",
   "language": "python",
   "name": "python3"
  },
  "language_info": {
   "codemirror_mode": {
    "name": "ipython",
    "version": 3
   },
   "file_extension": ".py",
   "mimetype": "text/x-python",
   "name": "python",
   "nbconvert_exporter": "python",
   "pygments_lexer": "ipython3",
   "version": "3.9.7 (default, Sep 16 2021, 16:59:28) [MSC v.1916 64 bit (AMD64)]"
  },
  "vscode": {
   "interpreter": {
    "hash": "b1b0894a710e83edfc954b125895f92d4cffbcf6f2f4c0c1562a32b80b7ce147"
   }
  }
 },
 "nbformat": 4,
 "nbformat_minor": 5
}
