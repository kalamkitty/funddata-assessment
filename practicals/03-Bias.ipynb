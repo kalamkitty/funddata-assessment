{
 "cells": [
  {
   "cell_type": "markdown",
   "id": "e037a405",
   "metadata": {},
   "source": [
    "## Exercise 1\n",
    "\n",
    "Give three real-world examples of different types of cognitive bias.\n",
    "\n",
    "- Confirmation Bias\n",
    "Confirmation bias is people's tendancy to seek out information to support their beliefs whilst ignoring information that do not support their ideas, also selectively interpreting and remember information that supports their views whilst discounting information that disproves their ideals (Cherry, 2022).\n",
    "\n",
    "A real-world example is the poor decision making in investing in cyptocurrency during the pandemic that I think many of us were guilty of. After the dramatic rise in price of GameStop stocks and Bitcoin, many was drawn into the world of cyptocurrency. With a large number of individuals boasting about how much money they have made in such a small time, many people's mind was made up that cypto was stable investment, any negative information or anicdotes of a failed investiment was deemed as bad luck.\n",
    "\n",
    "- Authority Bias\n",
    "Another common type of cognitive bias is authority bias, where an individual is influenced by the opinions or actions of an figure of authority. Placing trust and base decision making depending on those who are deemed to be an expert (Morgia, 2022).\n",
    "\n",
    "An example of this is\n"
   ]
  },
  {
   "cell_type": "markdown",
   "id": "db046087",
   "metadata": {},
   "source": [
    "## Exercise 2\n",
    "\n",
    "Show that the difference between the standard deviation calculations is greatest for small sample sizes.\n"
   ]
  },
  {
   "cell_type": "markdown",
   "id": "1709fcf6",
   "metadata": {},
   "source": [
    "## References\n",
    "\n",
    "https://www.verywellmind.com/what-is-a-confirmation-bias-2795024\n",
    "https://nesslabs.com/authority-bias#:~:text=The%20authority%20bias%20is%20our,a%20reasonable%20thing%20to%20do."
   ]
  }
 ],
 "metadata": {
  "kernelspec": {
   "display_name": "Python 3 (ipykernel)",
   "language": "python",
   "name": "python3"
  },
  "language_info": {
   "codemirror_mode": {
    "name": "ipython",
    "version": 3
   },
   "file_extension": ".py",
   "mimetype": "text/x-python",
   "name": "python",
   "nbconvert_exporter": "python",
   "pygments_lexer": "ipython3",
   "version": "3.9.7"
  }
 },
 "nbformat": 4,
 "nbformat_minor": 5
}
