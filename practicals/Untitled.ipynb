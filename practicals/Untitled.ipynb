{
 "cells": [
  {
   "cell_type": "markdown",
   "id": "c23e3e4a",
   "metadata": {},
   "source": [
    "# Normal Distribution\n",
    "\n",
    "This notebook is about the normal distribution, it is the most common distribution in statistics as it is used to represent random variables with unknown distributions. \n",
    "\n",
    "## Definition\n",
    "The normal distribution is a \"continuous probability distribution that is symmetrical around its mean, with most of observations clubster around central peak\" and other probabilites of variables taper on both sides of the distribution (Frost, 2018). It is used to describe how variables are spread/distributed for many natural ph\n",
    "\n",
    "The \n",
    "\n",
    "explain main concepts\n",
    "\n",
    "Use Visuals/plots"
   ]
  },
  {
   "cell_type": "markdown",
   "id": "31a44e73",
   "metadata": {},
   "source": [
    "# References\n",
    "\n",
    "https://statisticsbyjim.com/basics/normal-distribution/"
   ]
  }
 ],
 "metadata": {
  "kernelspec": {
   "display_name": "Python 3 (ipykernel)",
   "language": "python",
   "name": "python3"
  },
  "language_info": {
   "codemirror_mode": {
    "name": "ipython",
    "version": 3
   },
   "file_extension": ".py",
   "mimetype": "text/x-python",
   "name": "python",
   "nbconvert_exporter": "python",
   "pygments_lexer": "ipython3",
   "version": "3.9.7"
  }
 },
 "nbformat": 4,
 "nbformat_minor": 5
}
